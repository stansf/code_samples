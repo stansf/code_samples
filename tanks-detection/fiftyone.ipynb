{
 "cells": [
  {
   "cell_type": "code",
   "execution_count": 1,
   "id": "2b672d57",
   "metadata": {},
   "outputs": [],
   "source": [
    "from pprint import pprint\n",
    "from fiftyone.types import COCODetectionDataset, YOLOv5Dataset\n",
    "from fiftyone.utils.coco import COCODetectionDatasetImporter\n",
    "import fiftyone.types\n",
    "import fiftyone as fo\n",
    "import fiftyone.utils.random as four\n",
    "from fiftyone.utils.yolo import YOLOv5DatasetImporter\n",
    "from pycocotools.coco import COCO\n",
    "from pathlib import Path\n",
    "import re\n",
    "import json"
   ]
  },
  {
   "cell_type": "code",
   "execution_count": 31,
   "id": "7affffb1",
   "metadata": {},
   "outputs": [],
   "source": [
    "# fo.delete_dataset('Russian-military')"
   ]
  },
  {
   "cell_type": "code",
   "execution_count": 4,
   "id": "b3c7ac25",
   "metadata": {},
   "outputs": [],
   "source": [
    "ds2 = fo.Dataset('Russian-military')\n",
    "data_dir2 = Path('Russian-military-annotated.v2-2022-04-25-rebalance-t-v-t-split.yolov7pytorch')"
   ]
  },
  {
   "cell_type": "code",
   "execution_count": 5,
   "id": "9a2a3339",
   "metadata": {},
   "outputs": [
    {
     "name": "stdout",
     "output_type": "stream",
     "text": [
      " 100% |█████████████████| 700/700 [689.1ms elapsed, 0s remaining, 1.0K samples/s]       \n",
      " 100% |█████████████████| 193/193 [191.2ms elapsed, 0s remaining, 1.0K samples/s]     \n",
      " 100% |█████████████████| 100/100 [95.9ms elapsed, 0s remaining, 1.0K samples/s]      \n"
     ]
    }
   ],
   "source": [
    "# The splits to load\n",
    "splits = ['train', 'val', 'test']\n",
    "for split in splits:\n",
    "    ds2.add_dir(\n",
    "        dataset_dir=data_dir2,\n",
    "        dataset_type=fo.types.YOLOv5Dataset,\n",
    "        split=split,\n",
    "        tags=split,\n",
    ")"
   ]
  },
  {
   "cell_type": "code",
   "execution_count": 7,
   "id": "e401d84d",
   "metadata": {},
   "outputs": [
    {
     "data": {
      "text/plain": [
       "Name:        Russian-military\n",
       "Media type:  image\n",
       "Num samples: 993\n",
       "Persistent:  False\n",
       "Tags:        []\n",
       "Sample fields:\n",
       "    id:           fiftyone.core.fields.ObjectIdField\n",
       "    filepath:     fiftyone.core.fields.StringField\n",
       "    tags:         fiftyone.core.fields.ListField(fiftyone.core.fields.StringField)\n",
       "    metadata:     fiftyone.core.fields.EmbeddedDocumentField(fiftyone.core.metadata.ImageMetadata)\n",
       "    ground_truth: fiftyone.core.fields.EmbeddedDocumentField(fiftyone.core.labels.Detections)"
      ]
     },
     "execution_count": 7,
     "metadata": {},
     "output_type": "execute_result"
    }
   ],
   "source": [
    "ds2"
   ]
  },
  {
   "cell_type": "code",
   "execution_count": 6,
   "id": "38ce8f80",
   "metadata": {},
   "outputs": [],
   "source": [
    "ds2 = (ds2.set_field('tags', [])).clone()"
   ]
  },
  {
   "cell_type": "code",
   "execution_count": 7,
   "id": "761b8fd5",
   "metadata": {},
   "outputs": [],
   "source": [
    "ds2_class_mapping = {\n",
    "    'bm-21': 'truck',\n",
    "    'bmd-2': 'tank',\n",
    "    'bmp-1': 'tank',\n",
    "    'bmp-2': 'tank',\n",
    "    'btr-70': 'tank',\n",
    "    'btr-80': 'tank',\n",
    "    'mt-lb': 'tank',\n",
    "    't-64': 'tank',\n",
    "    't-72': 'tank',\n",
    "    't-80': 'tank',\n",
    "}"
   ]
  },
  {
   "cell_type": "code",
   "execution_count": 8,
   "id": "ec1b55fa",
   "metadata": {},
   "outputs": [],
   "source": [
    "view_ds2 = ds2.map_labels('ground_truth', ds2_class_mapping)"
   ]
  },
  {
   "cell_type": "code",
   "execution_count": 9,
   "id": "d408bba8",
   "metadata": {},
   "outputs": [],
   "source": [
    "ds2 = view_ds2.clone()"
   ]
  },
  {
   "cell_type": "code",
   "execution_count": 10,
   "id": "fb5a50fe",
   "metadata": {},
   "outputs": [],
   "source": [
    "four.random_split(ds2, {'train': 0.8, 'val': 0.2})"
   ]
  },
  {
   "cell_type": "markdown",
   "id": "36f51010",
   "metadata": {},
   "source": [
    "---"
   ]
  },
  {
   "cell_type": "code",
   "execution_count": 11,
   "id": "15baeb3b",
   "metadata": {},
   "outputs": [
    {
     "name": "stdout",
     "output_type": "stream",
     "text": [
      " 100% |███████████████| 6772/6772 [8.5s elapsed, 0s remaining, 824.5 samples/s]      \n"
     ]
    }
   ],
   "source": [
    "name = \"MilitaryVehicles\"\n",
    "dataset_dir = Path('./Military and Civilian Vehicles Classification/yolov5_ds')\n",
    "\n",
    "# The splits to load\n",
    "splits = ['train',]\n",
    "\n",
    "# Load the dataset, using tags to mark the samples in each split\n",
    "dataset = fo.Dataset(name)\n",
    "for split in splits:\n",
    "    dataset.add_dir(\n",
    "        dataset_dir=dataset_dir,\n",
    "        dataset_type=fo.types.YOLOv5Dataset,\n",
    "        split=split,\n",
    "        tags=split,\n",
    ")"
   ]
  },
  {
   "cell_type": "code",
   "execution_count": 12,
   "id": "42715281",
   "metadata": {},
   "outputs": [],
   "source": [
    "dataset = (dataset.set_field('tags', [])).clone()"
   ]
  },
  {
   "cell_type": "code",
   "execution_count": 13,
   "id": "3f3125d0",
   "metadata": {},
   "outputs": [],
   "source": [
    "labels_mapping = {'military tank': 'tank',\n",
    " 'military aircraft': 'aircraft',\n",
    " 'military truck': 'truck',\n",
    " 'civilian aircraft': 'aircraft',\n",
    " 'civilian car': 'car',\n",
    " 'military helicopter': 'helicopter'\n",
    "}"
   ]
  },
  {
   "cell_type": "code",
   "execution_count": 14,
   "id": "ed227973",
   "metadata": {},
   "outputs": [],
   "source": [
    "view_dataset = dataset.map_labels('ground_truth', labels_mapping)\n",
    "dataset = view_dataset.clone()"
   ]
  },
  {
   "cell_type": "code",
   "execution_count": 15,
   "id": "ca3cc3cb",
   "metadata": {},
   "outputs": [],
   "source": [
    "four.random_split(dataset, {'train': 0.8, 'val': 0.2})"
   ]
  },
  {
   "cell_type": "markdown",
   "id": "53a39885",
   "metadata": {},
   "source": [
    "---"
   ]
  },
  {
   "cell_type": "code",
   "execution_count": 32,
   "id": "3e7098c1",
   "metadata": {},
   "outputs": [],
   "source": [
    "# fo.delete_dataset('CustomerDataset')"
   ]
  },
  {
   "cell_type": "code",
   "execution_count": 19,
   "id": "2555f80a",
   "metadata": {},
   "outputs": [
    {
     "name": "stdout",
     "output_type": "stream",
     "text": [
      " 100% |███████████████████| 50/50 [142.1ms elapsed, 0s remaining, 351.9 samples/s] \n"
     ]
    }
   ],
   "source": [
    "customer_ds = fo.Dataset.from_dir(\n",
    "    dataset_dir='task_cv-nn-tanks-2023_03_12_19_21_38-coco 1.0',\n",
    "    dataset_type=COCODetectionDataset,\n",
    "    name='CustomerDataset',\n",
    ")\n"
   ]
  },
  {
   "cell_type": "code",
   "execution_count": 20,
   "id": "2ccce55e",
   "metadata": {},
   "outputs": [],
   "source": [
    "customer_ds = (customer_ds.set_field('tags', [])).clone()\n",
    "customer_ds = customer_ds.map_labels('detections', labels_mapping).clone()\n",
    "four.random_split(customer_ds, {'train': 0.8, 'val': 0.2})"
   ]
  },
  {
   "cell_type": "code",
   "execution_count": 21,
   "id": "9f1fb71c",
   "metadata": {},
   "outputs": [
    {
     "name": "stdout",
     "output_type": "stream",
     "text": [
      "{'truck', 'aircraft', 'helicopter', 'car', 'tank'}\n",
      " 100% |███████████████████| 40/40 [58.2ms elapsed, 0s remaining, 687.9 samples/s] \n",
      "Directory 'testset_yolov5' already exists; export will be merged with existing files\n",
      " 100% |███████████████████| 10/10 [17.7ms elapsed, 0s remaining, 564.0 samples/s] \n"
     ]
    }
   ],
   "source": [
    "export_dir = 'testset_yolov5'\n",
    "\n",
    "classes = set(labels_mapping.values())\n",
    "print(classes)\n",
    "\n",
    "for split in ['train', 'val']:\n",
    "    split_view = customer_ds.match_tags(split)\n",
    "    split_view.export(\n",
    "        export_dir=str(export_dir),\n",
    "        dataset_type=fo.types.YOLOv5Dataset,\n",
    "        split=split,\n",
    "        classes=classes,\n",
    "    )"
   ]
  },
  {
   "cell_type": "code",
   "execution_count": 22,
   "id": "39ba4f48",
   "metadata": {},
   "outputs": [
    {
     "name": "stdout",
     "output_type": "stream",
     "text": [
      " 100% |███████████████████| 40/40 [59.2ms elapsed, 0s remaining, 675.6 samples/s]     \n",
      " 100% |███████████████████| 10/10 [15.0ms elapsed, 0s remaining, 665.7 samples/s]    \n"
     ]
    }
   ],
   "source": [
    "name = \"CustomerDsYolov5\"\n",
    "\n",
    "# The splits to load\n",
    "splits = ['train', 'val']\n",
    "\n",
    "# Load the dataset, using tags to mark the samples in each split\n",
    "customer_ds_y5 = fo.Dataset(name)\n",
    "for split in splits:\n",
    "    customer_ds_y5.add_dir(\n",
    "        dataset_dir='testset_yolov5',\n",
    "        dataset_type=fo.types.YOLOv5Dataset,\n",
    "        split=split,\n",
    "        tags=split,\n",
    ")"
   ]
  },
  {
   "cell_type": "code",
   "execution_count": 23,
   "id": "580d512a",
   "metadata": {},
   "outputs": [
    {
     "data": {
      "text/plain": [
       "Name:        CustomerDsYolov5\n",
       "Media type:  image\n",
       "Num samples: 50\n",
       "Persistent:  False\n",
       "Tags:        []\n",
       "Sample fields:\n",
       "    id:           fiftyone.core.fields.ObjectIdField\n",
       "    filepath:     fiftyone.core.fields.StringField\n",
       "    tags:         fiftyone.core.fields.ListField(fiftyone.core.fields.StringField)\n",
       "    metadata:     fiftyone.core.fields.EmbeddedDocumentField(fiftyone.core.metadata.ImageMetadata)\n",
       "    ground_truth: fiftyone.core.fields.EmbeddedDocumentField(fiftyone.core.labels.Detections)"
      ]
     },
     "execution_count": 23,
     "metadata": {},
     "output_type": "execute_result"
    }
   ],
   "source": [
    "customer_ds_y5"
   ]
  },
  {
   "cell_type": "markdown",
   "id": "d7a5d500",
   "metadata": {},
   "source": [
    "---"
   ]
  },
  {
   "cell_type": "code",
   "execution_count": 24,
   "id": "0e4cb614",
   "metadata": {},
   "outputs": [],
   "source": [
    "_ = dataset.add_collection(ds2)\n",
    "_ = dataset.add_collection(customer_ds_y5)"
   ]
  },
  {
   "cell_type": "code",
   "execution_count": 25,
   "id": "f0558e9d",
   "metadata": {},
   "outputs": [
    {
     "data": {
      "text/html": [
       "\n",
       "        <iframe\n",
       "            width=\"100%\"\n",
       "            height=\"800\"\n",
       "            src=\"http://localhost:5151/?notebook=True&subscription=25829cdc-f29c-4bb9-b447-f727c1703c03\"\n",
       "            frameborder=\"0\"\n",
       "            allowfullscreen\n",
       "            \n",
       "        ></iframe>\n",
       "        "
      ],
      "text/plain": [
       "<IPython.lib.display.IFrame at 0x7fbc4bcbfbe0>"
      ]
     },
     "metadata": {},
     "output_type": "display_data"
    }
   ],
   "source": [
    "session = fo.launch_app(dataset)"
   ]
  },
  {
   "cell_type": "code",
   "execution_count": 29,
   "id": "91599cf4",
   "metadata": {},
   "outputs": [
    {
     "name": "stdout",
     "output_type": "stream",
     "text": [
      "{'truck', 'aircraft', 'helicopter', 'car', 'tank'}\n",
      " 100% |███████████████| 6252/6252 [9.3s elapsed, 0s remaining, 485.2 samples/s]       \n",
      "Directory 'dataset_coco' already exists; export will be merged with existing files\n",
      " 100% |███████████████| 1563/1563 [2.7s elapsed, 0s remaining, 763.3 samples/s]      \n"
     ]
    }
   ],
   "source": [
    "export_dir = 'dataset_coco'\n",
    "\n",
    "classes = set(labels_mapping.values())\n",
    "print(classes)\n",
    "\n",
    "for split in ['train', 'val']:\n",
    "    split_view = dataset.match_tags(split)\n",
    "    split_view.export(\n",
    "        export_dir=str(export_dir),\n",
    "        dataset_type=fo.types.COCODetectionDataset,\n",
    "        classes=classes,\n",
    "        labels_path=f'labels_{split}.json'\n",
    "    )"
   ]
  },
  {
   "cell_type": "code",
   "execution_count": 30,
   "id": "ce2a42ec",
   "metadata": {},
   "outputs": [
    {
     "name": "stdout",
     "output_type": "stream",
     "text": [
      " 100% |███████████████| 6252/6252 [6.0s elapsed, 0s remaining, 1.2K samples/s]        \n",
      "Directory 'dataset_yolov5' already exists; export will be merged with existing files\n",
      " 100% |███████████████| 1563/1563 [1.7s elapsed, 0s remaining, 893.9 samples/s]         \n"
     ]
    }
   ],
   "source": [
    "export_dir = 'dataset_yolov5'\n",
    "\n",
    "for split in ['train', 'val']:\n",
    "    split_view = dataset.match_tags(split)\n",
    "    split_view.export(\n",
    "        export_dir=str(export_dir),\n",
    "        dataset_type=fo.types.YOLOv5Dataset,\n",
    "        split=split,\n",
    "        classes=classes,\n",
    "    )"
   ]
  },
  {
   "cell_type": "code",
   "execution_count": null,
   "id": "7d54b785",
   "metadata": {},
   "outputs": [],
   "source": []
  }
 ],
 "metadata": {
  "kernelspec": {
   "display_name": "Python 3 (ipykernel)",
   "language": "python",
   "name": "python3"
  },
  "language_info": {
   "codemirror_mode": {
    "name": "ipython",
    "version": 3
   },
   "file_extension": ".py",
   "mimetype": "text/x-python",
   "name": "python",
   "nbconvert_exporter": "python",
   "pygments_lexer": "ipython3",
   "version": "3.10.4"
  }
 },
 "nbformat": 4,
 "nbformat_minor": 5
}
